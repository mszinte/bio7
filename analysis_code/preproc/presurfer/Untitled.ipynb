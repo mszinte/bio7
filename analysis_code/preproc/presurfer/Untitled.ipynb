{
 "cells": [
  {
   "cell_type": "markdown",
   "id": "100e01fa-7309-422c-a8e6-8a8c4de55002",
   "metadata": {},
   "source": [
    "Try to write a python wrapper for presurfer"
   ]
  },
  {
   "cell_type": "code",
   "execution_count": null,
   "id": "d3fc2cdf-3f2d-4d4e-8b9e-85600f6108d5",
   "metadata": {},
   "outputs": [],
   "source": [
    "%%#! /bin/octave -qf"
   ]
  },
  {
   "cell_type": "code",
   "execution_count": 1,
   "id": "598db666-e920-495e-a4f1-796a27b5caf0",
   "metadata": {},
   "outputs": [
    {
     "ename": "ModuleNotFoundError",
     "evalue": "No module named 'matlab'",
     "output_type": "error",
     "traceback": [
      "\u001b[0;31m---------------------------------------------------------------------------\u001b[0m",
      "\u001b[0;31mModuleNotFoundError\u001b[0m                       Traceback (most recent call last)",
      "Cell \u001b[0;32mIn[1], line 1\u001b[0m\n\u001b[0;32m----> 1\u001b[0m \u001b[38;5;28;01mimport\u001b[39;00m \u001b[38;5;21;01mmatlab\u001b[39;00m\u001b[38;5;21;01m.\u001b[39;00m\u001b[38;5;21;01mengine\u001b[39;00m\n",
      "\u001b[0;31mModuleNotFoundError\u001b[0m: No module named 'matlab'"
     ]
    }
   ],
   "source": [
    "%% MP2RAGE pre-processing Start-to-finish\n",
    "%UNI=fullfile(pwd,'sub-01_acq-MP2RAGE_mod-UNI_defaced.nii');\n",
    "%INV2=fullfile(pwd,'sub-01_acq-MP2RAGE_mod-INV2_defaced.nii');\n",
    "% ########################################################################\n",
    "% STEP - 0 : (optional) MPRAGEise UNI\n",
    "% ########################################################################\n",
    "UNI_out = presurf_MPRAGEise(INV2,UNI); % Outputs presurf_MPRAGEise directory\n",
    "\n",
    "% ########################################################################\n",
    "% STEP - 1 : Pre-process INV2 to get STRIPMASK\n",
    "% ########################################################################\n",
    "presurf_INV2(INV2); % Outputs presurf_INV2 directory\n",
    "\n",
    "% ########################################################################\n",
    "% STEP - 3 : Pre-process UNI to get BRAINMASK\n",
    "% ########################################################################\n",
    "% Change UNI path to that of the MPRAGEised UNI if Step-0 was done\n",
    "if exist('UNI_out','var')\n",
    "    presurf_UNI(UNI_out); % Outputs presurf_UNI directory\n",
    "else\n",
    "    presurf_UNI(UNI);\n",
    "end\n",
    "\n",
    "% ########################################################################\n",
    "% STEP - 4 : Prepare for Freesurfer\n",
    "% ########################################################################\n",
    "\n",
    "% Load the MPRAGEised UNI image and STRIPMASK in ITK-SNAP\n",
    "% Clean the mask in the regions-of-interest and save\n",
    "% Multiply the MPRAGEised UNI with the manually edited STRIPMASK\n",
    "% Supply to recon-all"
   ]
  }
 ],
 "metadata": {
  "kernelspec": {
   "display_name": "jpstellmann",
   "language": "python",
   "name": "jpstellmann"
  },
  "language_info": {
   "codemirror_mode": {
    "name": "ipython",
    "version": 3
   },
   "file_extension": ".py",
   "mimetype": "text/x-python",
   "name": "python",
   "nbconvert_exporter": "python",
   "pygments_lexer": "ipython3",
   "version": "3.9.15"
  }
 },
 "nbformat": 4,
 "nbformat_minor": 5
}
